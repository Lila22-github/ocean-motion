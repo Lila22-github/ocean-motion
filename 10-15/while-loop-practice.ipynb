{
 "cells": [
  {
   "cell_type": "markdown",
   "metadata": {},
   "source": [
    "1- write a while loop that prints the numbers 1-12:"
   ]
  },
  {
   "cell_type": "code",
   "execution_count": 8,
   "metadata": {},
   "outputs": [
    {
     "name": "stdout",
     "output_type": "stream",
     "text": [
      "0\n",
      "1\n",
      "2\n",
      "3\n",
      "4\n",
      "5\n",
      "6\n",
      "7\n",
      "8\n",
      "9\n",
      "10\n",
      "11\n",
      "12\n"
     ]
    }
   ],
   "source": [
    "# your code here: \n",
    "i = 0\n",
    "while i <= 12:\n",
    "    print(i)\n",
    "    i+=1"
   ]
  },
  {
   "cell_type": "markdown",
   "metadata": {},
   "source": [
    "2- write a while loop that prints multiples of 5 from 45 to 90:"
   ]
  },
  {
   "cell_type": "code",
   "execution_count": 12,
   "metadata": {},
   "outputs": [
    {
     "name": "stdout",
     "output_type": "stream",
     "text": [
      "45\n",
      "50\n",
      "55\n",
      "60\n",
      "65\n",
      "70\n",
      "75\n",
      "80\n",
      "85\n",
      "90\n"
     ]
    }
   ],
   "source": [
    "# your code here: \n",
    "i = 9\n",
    "while i <= 18:\n",
    "    print(5*i)\n",
    "    i+=1"
   ]
  },
  {
   "cell_type": "markdown",
   "metadata": {},
   "source": [
    "3- Write one more while loop that does anything of your chosing here:"
   ]
  },
  {
   "cell_type": "code",
   "execution_count": 15,
   "metadata": {},
   "outputs": [
    {
     "name": "stdout",
     "output_type": "stream",
     "text": [
      "100 Bottles of beer on the wall\n",
      "99 Bottles of beer on the wall\n",
      "98 Bottles of beer on the wall\n",
      "97 Bottles of beer on the wall\n",
      "96 Bottles of beer on the wall\n",
      "95 Bottles of beer on the wall\n",
      "94 Bottles of beer on the wall\n",
      "93 Bottles of beer on the wall\n",
      "92 Bottles of beer on the wall\n",
      "91 Bottles of beer on the wall\n",
      "90 Bottles of beer on the wall\n",
      "89 Bottles of beer on the wall\n",
      "88 Bottles of beer on the wall\n",
      "87 Bottles of beer on the wall\n",
      "86 Bottles of beer on the wall\n",
      "85 Bottles of beer on the wall\n",
      "84 Bottles of beer on the wall\n",
      "83 Bottles of beer on the wall\n",
      "82 Bottles of beer on the wall\n",
      "81 Bottles of beer on the wall\n",
      "80 Bottles of beer on the wall\n",
      "79 Bottles of beer on the wall\n",
      "78 Bottles of beer on the wall\n",
      "77 Bottles of beer on the wall\n",
      "76 Bottles of beer on the wall\n",
      "75 Bottles of beer on the wall\n",
      "74 Bottles of beer on the wall\n",
      "73 Bottles of beer on the wall\n",
      "72 Bottles of beer on the wall\n",
      "71 Bottles of beer on the wall\n",
      "70 Bottles of beer on the wall\n",
      "69 Bottles of beer on the wall\n",
      "68 Bottles of beer on the wall\n",
      "67 Bottles of beer on the wall\n",
      "66 Bottles of beer on the wall\n",
      "65 Bottles of beer on the wall\n",
      "64 Bottles of beer on the wall\n",
      "63 Bottles of beer on the wall\n",
      "62 Bottles of beer on the wall\n",
      "61 Bottles of beer on the wall\n",
      "60 Bottles of beer on the wall\n",
      "59 Bottles of beer on the wall\n",
      "58 Bottles of beer on the wall\n",
      "57 Bottles of beer on the wall\n",
      "56 Bottles of beer on the wall\n",
      "55 Bottles of beer on the wall\n",
      "54 Bottles of beer on the wall\n",
      "53 Bottles of beer on the wall\n",
      "52 Bottles of beer on the wall\n",
      "51 Bottles of beer on the wall\n",
      "50 Bottles of beer on the wall\n",
      "49 Bottles of beer on the wall\n",
      "48 Bottles of beer on the wall\n",
      "47 Bottles of beer on the wall\n",
      "46 Bottles of beer on the wall\n",
      "45 Bottles of beer on the wall\n",
      "44 Bottles of beer on the wall\n",
      "43 Bottles of beer on the wall\n",
      "42 Bottles of beer on the wall\n",
      "41 Bottles of beer on the wall\n",
      "40 Bottles of beer on the wall\n",
      "39 Bottles of beer on the wall\n",
      "38 Bottles of beer on the wall\n",
      "37 Bottles of beer on the wall\n",
      "36 Bottles of beer on the wall\n",
      "35 Bottles of beer on the wall\n",
      "34 Bottles of beer on the wall\n",
      "33 Bottles of beer on the wall\n",
      "32 Bottles of beer on the wall\n",
      "31 Bottles of beer on the wall\n",
      "30 Bottles of beer on the wall\n",
      "29 Bottles of beer on the wall\n",
      "28 Bottles of beer on the wall\n",
      "27 Bottles of beer on the wall\n",
      "26 Bottles of beer on the wall\n",
      "25 Bottles of beer on the wall\n",
      "24 Bottles of beer on the wall\n",
      "23 Bottles of beer on the wall\n",
      "22 Bottles of beer on the wall\n",
      "21 Bottles of beer on the wall\n",
      "20 Bottles of beer on the wall\n",
      "19 Bottles of beer on the wall\n",
      "18 Bottles of beer on the wall\n",
      "17 Bottles of beer on the wall\n",
      "16 Bottles of beer on the wall\n",
      "15 Bottles of beer on the wall\n",
      "14 Bottles of beer on the wall\n",
      "13 Bottles of beer on the wall\n",
      "12 Bottles of beer on the wall\n",
      "11 Bottles of beer on the wall\n",
      "10 Bottles of beer on the wall\n",
      "9 Bottles of beer on the wall\n",
      "8 Bottles of beer on the wall\n",
      "7 Bottles of beer on the wall\n",
      "6 Bottles of beer on the wall\n",
      "5 Bottles of beer on the wall\n",
      "4 Bottles of beer on the wall\n",
      "3 Bottles of beer on the wall\n",
      "2 Bottles of beer on the wall\n",
      "1 Bottles of beer on the wall\n",
      "0 Bottles of beer on the wall\n"
     ]
    }
   ],
   "source": [
    "# this loop counts the bottles of beer you have!\n",
    "i = 100\n",
    "\n",
    "while i >= 0:\n",
    "    print(str(i) + \" Bottles of beer on the wall\")\n",
    "    i -= 1"
   ]
  },
  {
   "cell_type": "markdown",
   "metadata": {},
   "source": [
    "4- Just to review other ways of doing things, let's review for loops. Start by writing a for loop that prints the numbers 1-12. You can do this in any way you want and create whatever extra variables you want: (hint: make a list)"
   ]
  },
  {
   "cell_type": "code",
   "execution_count": 16,
   "metadata": {},
   "outputs": [
    {
     "name": "stdout",
     "output_type": "stream",
     "text": [
      "1\n",
      "2\n",
      "3\n",
      "4\n",
      "5\n",
      "6\n",
      "7\n",
      "8\n",
      "9\n",
      "10\n",
      "11\n",
      "12\n"
     ]
    }
   ],
   "source": [
    "# your code here: \n",
    "list = [1,2,3,4,5,6,7,8,9,10,11,12]\n",
    "for i in list:\n",
    "    print(i)"
   ]
  },
  {
   "cell_type": "markdown",
   "metadata": {},
   "source": [
    "Additional information: You may not have learned how to make for loops using the ``range ``function. ``range()`` is a function that allows us to specify the number of times a for loop runs. Here is an example:"
   ]
  },
  {
   "cell_type": "code",
   "execution_count": 11,
   "metadata": {},
   "outputs": [
    {
     "name": "stdout",
     "output_type": "stream",
     "text": [
      "0\n",
      "1\n",
      "2\n",
      "3\n",
      "4\n",
      "5\n",
      "6\n",
      "7\n",
      "8\n",
      "9\n"
     ]
    }
   ],
   "source": [
    "for i in range(0,10):\n",
    "    print(i)"
   ]
  },
  {
   "cell_type": "markdown",
   "metadata": {},
   "source": [
    "5- Now try printing the numbers 1-12 using the range function:"
   ]
  },
  {
   "cell_type": "code",
   "execution_count": 17,
   "metadata": {},
   "outputs": [
    {
     "name": "stdout",
     "output_type": "stream",
     "text": [
      "1\n",
      "2\n",
      "3\n",
      "4\n",
      "5\n",
      "6\n",
      "7\n",
      "8\n",
      "9\n",
      "10\n",
      "11\n"
     ]
    }
   ],
   "source": [
    "# do that here: \n",
    "for i in range(1,12):\n",
    "    print(i)\n"
   ]
  },
  {
   "cell_type": "markdown",
   "metadata": {},
   "source": [
    "6- Now try printing the multiples of 5 from 45 to 90 using a for loop and the range function:"
   ]
  },
  {
   "cell_type": "code",
   "execution_count": 18,
   "metadata": {},
   "outputs": [
    {
     "name": "stdout",
     "output_type": "stream",
     "text": [
      "45\n",
      "50\n",
      "55\n",
      "60\n",
      "65\n",
      "70\n",
      "75\n",
      "80\n",
      "85\n",
      "90\n"
     ]
    }
   ],
   "source": [
    "# do this here: \n",
    "for i in range(9,19):\n",
    "    print(i*5)\n",
    "    "
   ]
  },
  {
   "cell_type": "markdown",
   "metadata": {},
   "source": [
    "# Discussion:\n",
    "for loops are generally used when you know how many times you want the loop to run, where as while loops are generally used when you have some other conditional to stop the loop. Review the while loop we're using in our cheers and challenges script and discuss why we use a while loop in this case. Is there a way we could do the same thing with a for loop?"
   ]
  },
  {
   "cell_type": "markdown",
   "metadata": {},
   "source": [
    "# ~ ~ ~ ~ ~ ~ ~ ~ ~ ~ \n",
    "# Part 2:\n",
    " \n",
    "non loop related thing: ``next()`` function! Remember over the last couple days we have been working with cycles: "
   ]
  },
  {
   "cell_type": "code",
   "execution_count": 19,
   "metadata": {},
   "outputs": [],
   "source": [
    "from itertools import cycle "
   ]
  },
  {
   "cell_type": "code",
   "execution_count": 20,
   "metadata": {},
   "outputs": [],
   "source": [
    "example_list = ['Monday', 'Tuesday', 'Wednesday','Thursday','Friday','Saturday','Sunday']"
   ]
  },
  {
   "cell_type": "markdown",
   "metadata": {},
   "source": [
    "To turn a list into a cycle we can use the ``cycle()`` function:"
   ]
  },
  {
   "cell_type": "code",
   "execution_count": 21,
   "metadata": {},
   "outputs": [],
   "source": [
    "example_cycle = cycle(example_list)"
   ]
  },
  {
   "cell_type": "markdown",
   "metadata": {},
   "source": [
    "The cycle object has this funciton ``next()``. The documentation for this cycle is here [https://www.w3schools.com/python/ref_func_next.asp](https://www.w3schools.com/python/ref_func_next.asp) When you call this function it returns the next item in the list like this:"
   ]
  },
  {
   "cell_type": "code",
   "execution_count": 22,
   "metadata": {},
   "outputs": [
    {
     "name": "stdout",
     "output_type": "stream",
     "text": [
      "Monday\n",
      "Tuesday\n",
      "Wednesday\n"
     ]
    }
   ],
   "source": [
    "print(next(example_cycle))\n",
    "print(next(example_cycle))\n",
    "print(next(example_cycle))"
   ]
  },
  {
   "cell_type": "markdown",
   "metadata": {},
   "source": [
    "We can add this into a loop like this:"
   ]
  },
  {
   "cell_type": "code",
   "execution_count": 8,
   "metadata": {},
   "outputs": [
    {
     "name": "stdout",
     "output_type": "stream",
     "text": [
      "Saturday\n",
      "Sunday\n",
      "Monday\n",
      "Tuesday\n",
      "Wednesday\n",
      "Thursday\n",
      "Friday\n",
      "Saturday\n",
      "Sunday\n",
      "Monday\n"
     ]
    }
   ],
   "source": [
    "i = 0\n",
    "while i <10:\n",
    "    print(next(example_cycle))\n",
    "    i+=1"
   ]
  },
  {
   "cell_type": "markdown",
   "metadata": {},
   "source": [
    "Discuss the loop with your group and explain what's happening. Feel free to ask me for help if you need to :) Now we're going to open our Cheers and challenges jupyter notebook and add this function in to finish the task."
   ]
  },
  {
   "cell_type": "code",
   "execution_count": null,
   "metadata": {},
   "outputs": [],
   "source": []
  }
 ],
 "metadata": {
  "kernelspec": {
   "display_name": "Python 3",
   "language": "python",
   "name": "python3"
  },
  "language_info": {
   "codemirror_mode": {
    "name": "ipython",
    "version": 3
   },
   "file_extension": ".py",
   "mimetype": "text/x-python",
   "name": "python",
   "nbconvert_exporter": "python",
   "pygments_lexer": "ipython3",
   "version": "3.7.3"
  }
 },
 "nbformat": 4,
 "nbformat_minor": 4
}
